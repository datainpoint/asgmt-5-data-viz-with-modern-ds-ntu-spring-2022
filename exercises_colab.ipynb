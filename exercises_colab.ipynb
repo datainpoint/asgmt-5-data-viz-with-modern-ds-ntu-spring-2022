{
 "cells": [
  {
   "cell_type": "markdown",
   "metadata": {
    "deletable": false
   },
   "source": [
    "# Data Visualization with Modern Data Science\n",
    "\n",
    "> Assignment 5\n",
    "\n",
    "Yao-Jen Kuo <yaojenkuo@ntu.edu.tw> from [DATAINPOINT](https://www.datainpoint.com)"
   ]
  },
  {
   "cell_type": "markdown",
   "metadata": {
    "deletable": false
   },
   "source": [
    "## Instructions\n",
    "\n",
    "- Due to reduced capacity of mybinder.org, we use Google Colab instead.\n",
    "- Save a copy for consistency by clicking the `Copy to Drive` button.\n",
    "- If you accidentally delete some of the cells, just re-click the assignment link again for the original notebook.\n",
    "- Write down your solution between comments `-- BEGIN SOLUTION` and `-- END SOLUTION`.\n",
    "- Running tests to see if your solutions are right:\n",
    "    - Connect.\n",
    "    - Runtime -> Restart and run all -> Yes -> Run anyway.\n",
    "    - Scroll down to the bottom of notebook to see the test result.\n",
    "- When you are ready to submit, click File -> Download .py.\n",
    "- Rename the exported Python script with your student ID(e.g. `b01234567.py`) and upload to the Assignment session on NTU COOL."
   ]
  },
  {
   "cell_type": "code",
   "execution_count": null,
   "metadata": {},
   "outputs": [],
   "source": [
    "import unittest\n",
    "import numpy as np\n",
    "import pandas as pd"
   ]
  },
  {
   "cell_type": "code",
   "execution_count": null,
   "metadata": {},
   "outputs": [],
   "source": [
    "!wget -N \"https://raw.githubusercontent.com/datainpoint/asgmt-5-data-viz-with-modern-ds-ntu-spring-2022/main/all_time_olympic_medals.csv\"\n",
    "!wget -N \"https://raw.githubusercontent.com/datainpoint/asgmt-5-data-viz-with-modern-ds-ntu-spring-2022/main/time_series_covid19_confirmed_global.csv\"\n",
    "!wget -N \"https://raw.githubusercontent.com/datainpoint/asgmt-5-data-viz-with-modern-ds-ntu-spring-2022/main/time_series_covid19_deats_global.csv\""
   ]
  },
  {
   "cell_type": "markdown",
   "metadata": {},
   "source": [
    "## 01. Define a Python function named `import_all_time_olympic_medals()` which imports `all_time_olympic_medals.csv` in working directory.\n",
    "\n",
    "- Expected inputs: None.\n",
    "- Expected outputs: `pandas.core.frame.DataFrame`."
   ]
  },
  {
   "cell_type": "code",
   "execution_count": null,
   "metadata": {},
   "outputs": [],
   "source": [
    "def import_all_time_olympic_medals() -> pd.core.frame.DataFrame:\n",
    "    \"\"\"\n",
    "    >>> all_time_olympic_medals = import_all_time_olympic_medals()\n",
    "    >>> type(all_time_olympic_medals)\n",
    "    pandas.core.frame.DataFrame\n",
    "    >>> all_time_olympic_medals.shape\n",
    "    (157, 17)\n",
    "    \"\"\"\n",
    "    ### BEGIN SOLUTION\n",
    "    \n",
    "    ### END SOLUTION"
   ]
  },
  {
   "cell_type": "markdown",
   "metadata": {},
   "source": [
    "## 02. Define a Python function named `find_taiwan_from_all_time_olympic_medals()` which retrieves the data of Taiwan given `all_time_olympic_medals.csv` in working directory.\n",
    "\n",
    "PS Taiwan might not be \"Taiwan\" in Olympic data.\n",
    "\n",
    "- Expected inputs: None.\n",
    "- Expected outputs: `pandas.core.frame.DataFrame`."
   ]
  },
  {
   "cell_type": "code",
   "execution_count": null,
   "metadata": {},
   "outputs": [],
   "source": [
    "def find_taiwan_from_all_time_olympic_medals() -> pd.core.frame.DataFrame:\n",
    "    \"\"\"\n",
    "    >>> taiwan_from_all_time_olympic_medals = find_taiwan_from_all_time_olympic_medals()\n",
    "    >>> type(taiwan_from_all_time_olympic_medals)\n",
    "    pandas.core.frame.DataFrame\n",
    "    >>> taiwan_from_all_time_olympic_medals.shape\n",
    "    (1, 17)\n",
    "    \"\"\"\n",
    "    ### BEGIN SOLUTION\n",
    "    \n",
    "    ### END SOLUTION"
   ]
  },
  {
   "cell_type": "markdown",
   "metadata": {},
   "source": [
    "## 03. Define a Python function named `find_the_king_of_summer_olympics()` which retrieves the data of the country that won the most gold medals in summer Olympics, given `all_time_olympic_medals.csv` in working directory.\n",
    "\n",
    "PS Exclude the data of \"Totals\" at the last row of `all_time_olympic_medals.csv`.\n",
    "\n",
    "- Expected inputs: None.\n",
    "- Expected outputs: `pandas.core.frame.DataFrame`."
   ]
  },
  {
   "cell_type": "code",
   "execution_count": null,
   "metadata": {},
   "outputs": [],
   "source": [
    "def find_the_king_of_summer_olympics() -> pd.core.frame.DataFrame:\n",
    "    \"\"\"\n",
    "    >>> the_king_of_summer_olympics = find_the_king_of_summer_olympics()\n",
    "    >>> type(the_king_of_summer_olympics)\n",
    "    pandas.core.frame.DataFrame\n",
    "    >>> the_king_of_summer_olympics.shape\n",
    "    (1, 17)\n",
    "    \"\"\"\n",
    "    ### BEGIN SOLUTION\n",
    "    \n",
    "    ### END SOLUTION"
   ]
  },
  {
   "cell_type": "markdown",
   "metadata": {},
   "source": [
    "## 04. Define a Python function named `find_the_king_of_winter_olympics()` which retrieves the data of the country that won the most gold medals in winter Olympics, given `all_time_olympic_medals.csv` in working directory.\n",
    "\n",
    "PS Exclude the data of \"Totals\" at the last row of `all_time_olympic_medals.csv`.\n",
    "\n",
    "- Expected inputs: None.\n",
    "- Expected outputs: `pandas.core.frame.DataFrame`."
   ]
  },
  {
   "cell_type": "code",
   "execution_count": null,
   "metadata": {},
   "outputs": [],
   "source": [
    "def find_the_king_of_winter_olympics() -> pd.core.frame.DataFrame:\n",
    "    \"\"\"\n",
    "    >>> the_king_of_winter_olympics = find_the_king_of_winter_olympics()\n",
    "    >>> type(the_king_of_winter_olympics)\n",
    "    pandas.core.frame.DataFrame\n",
    "    >>> the_king_of_winter_olympics.shape\n",
    "    (1, 17)\n",
    "    \"\"\"\n",
    "    ### BEGIN SOLUTION\n",
    "    \n",
    "    ### END SOLUTION"
   ]
  },
  {
   "cell_type": "markdown",
   "metadata": {},
   "source": [
    "## 05. Define a Python function named `calculate_summer_winter_medals_ratio()` which calculates the ratio according to the formula below, given `all_time_olympic_medals.csv` in working directory.\n",
    "\n",
    "\\begin{equation}\n",
    "\\text{Ratio} = \\frac{\\text{Summer Golds} - \\text{Winter Golds}}{\\text{Total Golds}}\n",
    "\\end{equation}\n",
    "\n",
    "PS Exclude the data of \"Totals\" at the last row of `all_time_olympic_medals.csv`.\n",
    "\n",
    "- Expected inputs: None.\n",
    "- Expected outputs: `pandas.core.frame.DataFrame`.\n",
    "\n",
    "```\n",
    "                            team_name  no_summer_golds  no_winter_golds  ratio\n",
    "0                         Afghanistan                0                0    NaN\n",
    "1                             Algeria                5                0    1.0\n",
    "2                           Argentina               21                0    1.0\n",
    "3                             Armenia                2                0    1.0\n",
    "4                         Australasia                3                0    1.0\n",
    "..                                ...              ...              ...    ...\n",
    "151                            Zambia                0                0    NaN\n",
    "152                          Zimbabwe                3                0    1.0\n",
    "153      Independent Olympic Athletes                1                0    1.0\n",
    "154  Independent Olympic Participants                0                0    NaN\n",
    "155                        Mixed team               11                0    1.0\n",
    "\n",
    "[156 rows x 4 columns]\n",
    "```"
   ]
  },
  {
   "cell_type": "code",
   "execution_count": null,
   "metadata": {},
   "outputs": [],
   "source": [
    "def calculate_summer_winter_medals_ratio() -> pd.core.frame.DataFrame:\n",
    "    \"\"\"\n",
    "    >>> summer_winter_medals_ratio = calculate_summer_winter_medals_ratio()\n",
    "    >>> type(summer_winter_medals_ratio)\n",
    "    pandas.core.frame.DataFrame\n",
    "    >>> summer_winter_medals_ratio.shape\n",
    "    (156, 4)\n",
    "    \"\"\"\n",
    "    ### BEGIN SOLUTION\n",
    "    \n",
    "    ### END SOLUTION"
   ]
  },
  {
   "cell_type": "markdown",
   "metadata": {},
   "source": [
    "## 06. Define a Python function named `find_the_largest_summer_winter_medals_ratio()` which retrieves the country with the largest ratio calculated in the previous exercises, given `all_time_olympic_medals.csv` in working directory.\n",
    "\n",
    "PS Exclude the data of \"Totals\" at the last row of `all_time_olympic_medals.csv`. And also exclude those countries with `ratio == 1.0` or `ratio is np.NaN`.\n",
    "\n",
    "- Expected inputs: None.\n",
    "- Expected outputs: `pandas.core.frame.DataFrame`."
   ]
  },
  {
   "cell_type": "code",
   "execution_count": null,
   "metadata": {},
   "outputs": [],
   "source": [
    "def find_the_largest_summer_winter_medals_ratio() -> pd.core.frame.DataFrame:\n",
    "    \"\"\"\n",
    "    >>> the_largest_summer_winter_medals_ratio = find_the_largest_summer_winter_medals_ratio()\n",
    "    >>> type(the_largest_summer_winter_medals_ratio)\n",
    "    pandas.core.frame.DataFrame\n",
    "    >>> the_largest_summer_winter_medals_ratio.shape\n",
    "    (1, 4)\n",
    "    \"\"\"\n",
    "    ### BEGIN SOLUTION\n",
    "    \n",
    "    ### END SOLUTION"
   ]
  },
  {
   "cell_type": "markdown",
   "metadata": {},
   "source": [
    "## 07. Define a Python function named `import_time_series()` which imports two CSV files `time_series_covid19_confirmed_global.csv` and `time_series_covid19_deaths_global.csv` in working directory as dataframes then stores them into a `dict`.\n",
    "\n",
    "- Expected inputs: None.\n",
    "- Expected outputs: `dict`."
   ]
  },
  {
   "cell_type": "code",
   "execution_count": null,
   "metadata": {},
   "outputs": [],
   "source": [
    "def import_time_series() -> dict:\n",
    "    \"\"\"\n",
    "    >>> time_series = import_time_series()\n",
    "    >>> type(time_series)\n",
    "    dict\n",
    "    >>> len(time_series)\n",
    "    2\n",
    "    >>> type(time_series[\"confirmed\"])\n",
    "    pandas.core.frame.DataFrame\n",
    "    >>> type(time_series[\"deaths\"])\n",
    "    pandas.core.frame.DataFrame\n",
    "    >>> time_series[\"confirmed\"].shape\n",
    "    (284, 837)\n",
    "    >>> time_series[\"deaths\"].shape\n",
    "    (284, 837)\n",
    "    \"\"\"\n",
    "    ### BEGIN SOLUTION\n",
    "    \n",
    "    ### END SOLUTION"
   ]
  },
  {
   "cell_type": "markdown",
   "metadata": {},
   "source": [
    "## 08. Define a Python function named `summarize_pandemic_by_country()` which creates a dataframe to summarize the pandemic globally from `time_series_covid19_confirmed_global.csv` and `time_series_covid19_deaths_global.csv` in working directory.\n",
    "\n",
    "```\n",
    "           Country/Region  Confirmed   Deaths\n",
    "0             Afghanistan   69069879  3004686\n",
    "1                 Albania   87057585  1380090\n",
    "2                 Algeria   99213084  2768864\n",
    "3                 Andorra   10296811    78490\n",
    "4                  Angola   28113289   637594\n",
    "..                    ...        ...      ...\n",
    "193    West Bank and Gaza  198507422  1989968\n",
    "194  Winter Olympics 2022      48612        0\n",
    "195                 Yemen    4188645   847370\n",
    "196                Zambia   92972301  1386353\n",
    "197              Zimbabwe   60555671  1726740\n",
    "\n",
    "[198 rows x 3 columns]\n",
    "```\n",
    "\n",
    "- Expected inputs: None.\n",
    "- Expected outputs: `pandas.core.frame.DataFrame`."
   ]
  },
  {
   "cell_type": "code",
   "execution_count": null,
   "metadata": {},
   "outputs": [],
   "source": [
    "def summarize_pandemic_by_country() -> pd.core.frame.DataFrame:\n",
    "    \"\"\"\n",
    "    >>> pandemic_by_country = summarize_pandemic_by_country()\n",
    "    >>> type(pandemic_by_country)\n",
    "    pandas.core.frame.DataFrame\n",
    "    >>> pandemic_by_country.shape\n",
    "    (198, 3)\n",
    "    \"\"\"\n",
    "    ### BEGIN SOLUTION\n",
    "    \n",
    "    ### END SOLUTION"
   ]
  },
  {
   "cell_type": "markdown",
   "metadata": {},
   "source": [
    "## 09. Define a Python function named `find_taiwan_from_covid_time_series()` which createas a dataframe of Taiwan's confirmed and deaths cases from `time_series_covid19_confirmed_global.csv` and `time_series_covid19_deaths_global.csv` in working directory. Remove the asterisk in `Country/Region` column.\n",
    "\n",
    "```\n",
    "    Country/Region     Date  Confirmed  Deaths\n",
    "0           Taiwan  1/22/20          1       0\n",
    "1           Taiwan  1/23/20          1       0\n",
    "2           Taiwan  1/24/20          3       0\n",
    "3           Taiwan  1/25/20          3       0\n",
    "4           Taiwan  1/26/20          4       0\n",
    "..             ...      ...        ...     ...\n",
    "828         Taiwan  4/29/22     100753     862\n",
    "829         Taiwan  4/30/22     115883     865\n",
    "830         Taiwan   5/1/22     132955     868\n",
    "831         Taiwan   5/2/22     132955     868\n",
    "832         Taiwan   5/3/22     173942     876\n",
    "\n",
    "[833 rows x 4 columns]\n",
    "```\n",
    "\n",
    "- Expected inputs: None.\n",
    "- Expected outputs: `pandas.core.frame.DataFrame`."
   ]
  },
  {
   "cell_type": "code",
   "execution_count": null,
   "metadata": {},
   "outputs": [],
   "source": [
    "def find_taiwan_from_covid_time_series() -> pd.DataFrame:\n",
    "    \"\"\"\n",
    "    >>> taiwan_from_covid_time_series = find_taiwan_from_covid_time_series()\n",
    "    >>> type(taiwan_from_covid_time_series)\n",
    "    pandas.core.frame.DataFrame\n",
    "    >>> taiwan_from_covid_time_series.shape\n",
    "    (833, 4)\n",
    "    \"\"\"\n",
    "    ### BEGIN SOLUTION\n",
    "    \n",
    "    ### END SOLUTION"
   ]
  },
  {
   "cell_type": "markdown",
   "metadata": {},
   "source": [
    "## 10. Define a Python function named `transform_taiwan_data()` that is able to tranform the dataframe obtained from the previous question into a desired time series format.\n",
    "\n",
    "```\n",
    "           Date Country/Region   Variable   Value\n",
    "0    2020-01-22         Taiwan  Confirmed       1\n",
    "1    2020-01-22         Taiwan     Deaths       0\n",
    "2    2020-01-23         Taiwan  Confirmed       1\n",
    "3    2020-01-23         Taiwan     Deaths       0\n",
    "4    2020-01-24         Taiwan  Confirmed       3\n",
    "...         ...            ...        ...     ...\n",
    "1661 2022-05-01         Taiwan     Deaths     868\n",
    "1662 2022-05-02         Taiwan  Confirmed  132955\n",
    "1663 2022-05-02         Taiwan     Deaths     868\n",
    "1664 2022-05-03         Taiwan  Confirmed  173942\n",
    "1665 2022-05-03         Taiwan     Deaths     876\n",
    "\n",
    "[1666 rows x 4 columns]\n",
    "```\n",
    "\n",
    "- Expected inputs: None.\n",
    "- Expected outputs: `pandas.core.frame.DataFrame`."
   ]
  },
  {
   "cell_type": "code",
   "execution_count": null,
   "metadata": {},
   "outputs": [],
   "source": [
    "def transform_taiwan_data() -> pd.DataFrame:\n",
    "    \"\"\"\n",
    "    >>> taiwan_data = transform_taiwan_data()\n",
    "    >>> type(taiwan_data)\n",
    "    pandas.core.frame.DataFrame\n",
    "    >>> taiwan_data.shape\n",
    "    (1666, 4)\n",
    "    \"\"\"\n",
    "    ### BEGIN SOLUTION\n",
    "    \n",
    "    ### END SOLUTION"
   ]
  },
  {
   "cell_type": "markdown",
   "metadata": {
    "deletable": false,
    "editable": false
   },
   "source": [
    "## End of assignment, ignore the following cells."
   ]
  },
  {
   "cell_type": "code",
   "execution_count": null,
   "metadata": {},
   "outputs": [],
   "source": [
    "class TestAssignmentFive(unittest.TestCase):\n",
    "    def test_01_import_all_time_olympic_medals(self):\n",
    "        all_time_olympic_medals = import_all_time_olympic_medals()\n",
    "        self.assertIsInstance(all_time_olympic_medals, pd.core.frame.DataFrame)\n",
    "        self.assertEqual(all_time_olympic_medals.shape, (157, 17))\n",
    "    def test_02_find_taiwan_from_all_time_olympic_medals(self):\n",
    "        taiwan_from_all_time_olympic_medals = find_taiwan_from_all_time_olympic_medals()\n",
    "        self.assertIsInstance(taiwan_from_all_time_olympic_medals, pd.core.frame.DataFrame)\n",
    "        self.assertEqual(taiwan_from_all_time_olympic_medals.shape, (1, 17))\n",
    "        self.assertEqual(taiwan_from_all_time_olympic_medals[\"team_ioc\"].values[0], \"TPE\")\n",
    "    def test_03_find_the_king_of_summer_olympics(self):\n",
    "        the_king_of_summer_olympics = find_the_king_of_summer_olympics()\n",
    "        self.assertIsInstance(the_king_of_summer_olympics, pd.core.frame.DataFrame)\n",
    "        self.assertEqual(the_king_of_summer_olympics.shape, (1, 17))\n",
    "        self.assertEqual(the_king_of_summer_olympics[\"team_ioc\"].values[0], \"USA\")\n",
    "    def test_04_find_the_king_of_winter_olympics(self):\n",
    "        the_king_of_winter_olympics = find_the_king_of_winter_olympics()\n",
    "        self.assertIsInstance(the_king_of_winter_olympics, pd.core.frame.DataFrame)\n",
    "        self.assertEqual(the_king_of_winter_olympics.shape, (1, 17))\n",
    "        self.assertEqual(the_king_of_winter_olympics[\"team_name\"].values[0], \"Norway\")\n",
    "    def test_05_calculate_summer_winter_medals_ratio(self):\n",
    "        summer_winter_medals_ratio = calculate_summer_winter_medals_ratio()\n",
    "        self.assertIsInstance(summer_winter_medals_ratio, pd.core.frame.DataFrame)\n",
    "        self.assertEqual(summer_winter_medals_ratio.shape, (156, 4))\n",
    "    def test_06_find_the_largest_summer_winter_medals_ratio(self):\n",
    "        the_largest_summer_winter_medals_ratio = find_the_largest_summer_winter_medals_ratio()\n",
    "        self.assertIsInstance(the_largest_summer_winter_medals_ratio, pd.core.frame.DataFrame)\n",
    "        self.assertEqual(the_largest_summer_winter_medals_ratio.shape, (1, 4))\n",
    "        self.assertEqual(the_largest_summer_winter_medals_ratio[\"team_name\"].values[0], \"Hungary\")\n",
    "    def test_07_import_time_series(self):\n",
    "        time_series = import_time_series()\n",
    "        self.assertIsInstance(time_series, dict)\n",
    "        self.assertEqual(len(time_series), 2)\n",
    "        self.assertIsInstance(time_series[\"confirmed\"], pd.core.frame.DataFrame)\n",
    "        self.assertIsInstance(time_series[\"deaths\"], pd.core.frame.DataFrame)\n",
    "        self.assertEqual(time_series[\"confirmed\"].shape, (284, 837))\n",
    "        self.assertEqual(time_series[\"deaths\"].shape, (284, 837))\n",
    "    def test_08_summarize_pandemic_by_country(self):\n",
    "        pandemic_by_country = summarize_pandemic_by_country()\n",
    "        self.assertIsInstance(pandemic_by_country, pd.core.frame.DataFrame)\n",
    "        self.assertEqual(pandemic_by_country.shape, (198, 3))\n",
    "    def test_09_find_taiwan_from_covid_time_series(self):\n",
    "        taiwan_from_covid_time_series = find_taiwan_from_covid_time_series()\n",
    "        self.assertIsInstance(taiwan_from_covid_time_series, pd.core.frame.DataFrame)\n",
    "        self.assertEqual(taiwan_from_covid_time_series.shape, (833, 4))\n",
    "        self.assertEqual(taiwan_from_covid_time_series[\"Date\"].nunique(), 833)\n",
    "        self.assertEqual(taiwan_from_covid_time_series[\"Country/Region\"].nunique(), 1)\n",
    "        self.assertEqual(taiwan_from_covid_time_series[\"Country/Region\"].unique()[0], \"Taiwan\")\n",
    "    def test_10_transform_taiwan_data(self):\n",
    "        taiwan_data = transform_taiwan_data()\n",
    "        self.assertIsInstance(taiwan_data, pd.core.frame.DataFrame)\n",
    "        self.assertEqual(taiwan_data.shape, (1666, 4))\n",
    "        self.assertEqual(taiwan_data[\"Date\"].nunique(), 833)\n",
    "        self.assertEqual(taiwan_data[\"Country/Region\"].nunique(), 1)\n",
    "        self.assertEqual(taiwan_data[\"Country/Region\"].unique()[0], \"Taiwan\")\n",
    "        self.assertEqual(taiwan_data.iloc[:, 2].nunique(), 2)\n",
    "        \n",
    "suite = unittest.TestLoader().loadTestsFromTestCase(TestAssignmentFive)\n",
    "runner = unittest.TextTestRunner(verbosity=2)\n",
    "test_results = runner.run(suite)\n",
    "number_of_failures = len(test_results.failures)\n",
    "number_of_errors = len(test_results.errors)\n",
    "number_of_test_runs = test_results.testsRun\n",
    "number_of_successes = number_of_test_runs - (number_of_failures + number_of_errors)"
   ]
  },
  {
   "cell_type": "code",
   "execution_count": null,
   "metadata": {},
   "outputs": [],
   "source": [
    "print(\"You've got {} successes among {} questions.\".format(number_of_successes, number_of_test_runs))"
   ]
  }
 ],
 "metadata": {
  "celltoolbar": "Edit Metadata",
  "kernelspec": {
   "display_name": "Python 3.9",
   "language": "python",
   "name": "python39"
  },
  "language_info": {
   "codemirror_mode": {
    "name": "ipython",
    "version": 3
   },
   "file_extension": ".py",
   "mimetype": "text/x-python",
   "name": "python",
   "nbconvert_exporter": "python",
   "pygments_lexer": "ipython3",
   "version": "3.9.7"
  }
 },
 "nbformat": 4,
 "nbformat_minor": 4
}
